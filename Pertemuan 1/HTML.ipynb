{
 "cells": [
  {
   "cell_type": "code",
   "execution_count": null,
   "metadata": {},
   "outputs": [
    {
     "ename": "SyntaxError",
     "evalue": "invalid syntax (797715122.py, line 1)",
     "output_type": "error",
     "traceback": [
      "\u001b[1;36m  Cell \u001b[1;32mIn[4], line 1\u001b[1;36m\u001b[0m\n\u001b[1;33m    <!DOCTYPE html>\u001b[0m\n\u001b[1;37m    ^\u001b[0m\n\u001b[1;31mSyntaxError\u001b[0m\u001b[1;31m:\u001b[0m invalid syntax\n"
     ]
    }
   ],
   "source": [
    "<!DOCTYPE html>\n",
    "<html>\n",
    "<head>\n",
    "<title>HTML</title>\n",
    "</head>\n",
    "<body>\n",
    "\n",
    "<h1>Selamat Datang di Halaman Demo HTML Pemula Milik Tyas</h1>\n",
    "\n",
    "<h2>Paragraf</h2>\n",
    "<p style=\"text-align: left;\">Ini paragraf rata kiri.</p>\n",
    "<p style=\"text-align: center;\">Ini paragraf rata tengah.</p>\n",
    "<p style=\"text-align: right;\">Ini paragraf rata kanan.</p>\n",
    "\n",
    "<h2>Formatting Teks</h2>\n",
    "<p><b>Teks Bold</b>, <i>Italic</i>, <u>Underline</u>, <span style=\"color:pink;\">Pink</span></p>\n",
    "\n",
    "<h2>List</h2>\n",
    "<h3>Ordered List</h3>\n",
    "<ol>\n",
    "<li>Pagi</li>\n",
    "<li>Siang</li>\n",
    "<li>Sore</li>\n",
    "<li>Malam</li>\n",
    "</ol>\n",
    "\n",
    "<h3>Unordered List</h3>\n",
    "<ul>\n",
    "<li>Durian</li>\n",
    "<li>Alpukat</li>\n",
    "<li>Mangga</li>\n",
    "</ul>\n",
    "\n",
    "<h2>Gambar</h2>\n",
    "<img src=\"https://via.placeholder.com/400\" alt=\"Contoh Gambar\">\n",
    "\n",
    "<h2>Hyperlink</h2>\n",
    "<p>Kunjungi <a href=\"https://www.google.com/search?q=psm+cantus+firmus&oq=psm+cantus+firmus&gs_lcrp=EgZjaHJvbWUyCQgAEEUYORiABDIGCAEQRRg90gEINjc2N2owajeoAgCwAgA&sourceid=chrome&ie=UTF-8\" target=\"_blank\">PSM Cantus Firmus</a></p>\n",
    "\n",
    "<h2>Tabel Hobi</h2>\n",
    "<table border=\"1\">\n",
    "<tr>\n",
    "<th>No</th>\n",
    "<th>Nama</th>\n",
    "<th>Hobi</th>\n",
    "</tr>\n",
    "<tr>\n",
    "<td>1</td>\n",
    "<td>Yaya</td>\n",
    "<td>Kulineran</td>\n",
    "</tr>\n",
    "<tr>\n",
    "<td>2</td>\n",
    "<td>Cia</td>\n",
    "<td>Traveling</td>\n",
    "</tr>\n",
    "</table>\n",
    "\n",
    "<h2>Formulir</h2>\n",
    "<form>\n",
    "<label>Nama:</label><br>\n",
    "<input type=\"text\" name=\"nama\"><br>\n",
    "<label>Email:</label><br>\n",
    "<input type=\"email\" name=\"email\"><br>\n",
    "<input type=\"submit\" value=\"Kirim\">\n",
    "</form>\n",
    "\n",
    "</body>\n",
    "</html>\n"
   ]
  }
 ],
 "metadata": {
  "kernelspec": {
   "display_name": "base",
   "language": "python",
   "name": "python3"
  },
  "language_info": {
   "codemirror_mode": {
    "name": "ipython",
    "version": 3
   },
   "file_extension": ".py",
   "mimetype": "text/x-python",
   "name": "python",
   "nbconvert_exporter": "python",
   "pygments_lexer": "ipython3",
   "version": "3.11.5"
  }
 },
 "nbformat": 4,
 "nbformat_minor": 2
}
